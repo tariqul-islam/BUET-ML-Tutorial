{
 "cells": [
  {
   "cell_type": "markdown",
   "metadata": {},
   "source": [
    "<h1>Welcome</h1>\n",
    "\n",
    "Hello and welcome to the tutorial.\n",
    "\n",
    "In this tutorial our goal is to learn some algorithms and use them to learn from data.\n",
    "\n",
    "First of all, let us import the stuff we need...."
   ]
  },
  {
   "cell_type": "code",
   "execution_count": 6,
   "metadata": {
    "collapsed": false
   },
   "outputs": [
    {
     "name": "stdout",
     "output_type": "stream",
     "text": [
      "The autoreload extension is already loaded. To reload it, use:\n",
      "  %reload_ext autoreload\n"
     ]
    }
   ],
   "source": [
    "import numpy as np\n",
    "\n",
    "import matplotlib.pyplot as plt\n",
    "%matplotlib inline\n",
    "plt.rcParams['figure.figsize'] = (10.0, 8.0) # set default size of plots\n",
    "plt.rcParams['image.interpolation'] = 'nearest'\n",
    "plt.rcParams['image.cmap'] = 'gray'\n",
    "\n",
    "%load_ext autoreload\n",
    "%autoreload 2"
   ]
  },
  {
   "cell_type": "markdown",
   "metadata": {},
   "source": [
    "<h1>Getting The Data</h1>\n",
    "\n",
    "First of all, what kind of data we will use in this experiment?\n",
    "\n",
    "We will try to learn by a example containing two classes.\n",
    "The running example in this tutorial will be a straight line dividing a plane. The two divisions of the plane are two classes.\n",
    "\n",
    "So, the straight line is like this,\n",
    "$x_2=mx_1+c$\n",
    "\n",
    "Let us define the classes,\n",
    "\n",
    "Class 1: $mx_1+c-x_2 > 0$\n",
    "\n",
    "class 2: $mx_1+c-x_2 < 0$\n",
    "\n",
    "Now that you see the classes we can define the mapping function to be,\n",
    "\n",
    "$f(x_1,x_2) = sign(mx_1+c-x_2)$\n",
    "\n",
    "so let us break it down a bit. Let $m=\\frac{w_1}{|w_2'|}$ and lets do some computation,\n",
    "\n",
    "$=> f(x_1,x_2) = sign(\\frac{w_1}{|w_2'|}x_1+c-x_2)$\n",
    "\n",
    "$=> f(x_1,x_2) =sign(\\frac{w_1x_1+|w_2'|c-|w_2'|x_2}{|w_2'|})$\n",
    "\n",
    "now if we remove the $|W_2'|$ from the denominator does the mapping change? It does not. So,\n",
    "\n",
    "$=> f(x_1,x_2) =sign(w_1x_1+|w_2'|c-|w_2'|x_2)$\n",
    "\n",
    "Now let us use, $-|w_2'| = w_2$ and $|w_2'|c=w_0$, and after rearragning,\n",
    "\n",
    "$=> f(x_1,x_2) = sign(w_0 + w_1 x_1 + w_2 x_2)$\n",
    "\n",
    "Here, accordng to machine learning term $w_0$ is called bias term, $w_1$ and $w_2$ are weight vector elements and $x_1$ and $x_2$ are called features.\n",
    "\n",
    "Now, the whole weight vector can be wrtten as $\\mathbf{w}=[w_0 \\text{ } w_1 \\text{ } w_2]^T$ and the feature vector can be written as, $\\mathbf{x}=[1 \\text{ } x_1 \\text{ } x_2]^T$. So the function in the end becomes,\n",
    "\n",
    "$=> y = f(\\mathbf{x}) = sign(\\mathbf{w}^T\\mathbf{x})$\n",
    "\n",
    "in machine learning term, the value of $y\\in\\{+1,-1\\}$ is often called label. \n",
    "\n",
    "for simplicity we will tackle $x_1$ and $x_2$ that are within the range $[0.0,1.0]$."
   ]
  },
  {
   "cell_type": "code",
   "execution_count": 7,
   "metadata": {
    "collapsed": false
   },
   "outputs": [
    {
     "name": "stdout",
     "output_type": "stream",
     "text": [
      "(3L, 30L)\n",
      "(3L,)\n",
      "[-1.  1. -1.  1. -1. -1.  1.  1.  1. -1.  1. -1. -1. -1.  1.  1. -1. -1.\n",
      "  1.  1. -1.  1. -1.  1.  1.  1. -1.  1. -1. -1.]\n"
     ]
    }
   ],
   "source": [
    "w_1 = 8.0 #w_1\n",
    "w_2p = 10.0 #w_2'\n",
    "\n",
    "m = w_1/w_2p\n",
    "c = 0.1\n",
    "\n",
    "w_0 = w_2p*c\n",
    "w_2 = -w_2p\n",
    "\n",
    "w = np.array([w_0, w_1, w_2])\n",
    "\n",
    "N = 30 #number of examples\n",
    "\n",
    "x_1 = np.random.rand((N))\n",
    "x_2 = np.random.rand((N))\n",
    "\n",
    "x = np.array([np.ones(N), x_1, x_2])\n",
    "\n",
    "print x.shape #should print (3L, 10L) [windows] or (3,10) [linux] showing 3x10 matrix\n",
    "print w.shape #should pring (3L,) [windows] or (3,) [linux] showing 3x1 matrix\n",
    "#note that it is row vector instead or column\n",
    "\n",
    "#now let us compute the lebels\n",
    "y = (w.dot(x)>0)*1.0+(w.dot(x)<0)*-1.0\n",
    "\n",
    "print y"
   ]
  },
  {
   "cell_type": "markdown",
   "metadata": {
    "collapsed": true
   },
   "source": [
    "<h1>Visualization</h1>\n",
    "\n",
    "Now let's visualize the data. Since it is data with only $2$ features, it will be easier to visualize."
   ]
  },
  {
   "cell_type": "code",
   "execution_count": 8,
   "metadata": {
    "collapsed": false
   },
   "outputs": [
    {
     "data": {
      "image/png": "[encoded data removed]",
      "text/plain": [
       "<matplotlib.figure.Figure at 0x79f0b00>"
      ]
     },
     "metadata": {},
     "output_type": "display_data"
    }
   ],
   "source": [
    "marker = {}\n",
    "marker[-1.0] = '+b'\n",
    "marker[1.0] = '*r'\n",
    "\n",
    "for i in range(N):\n",
    "    plt.plot(x_1[i],x_2[i],marker[y[i]])\n",
    "\n",
    "x_1__ = np.arange(0,1.0,0.001)\n",
    "x_2__ = m*x_1__+c #the line that separates the classes\n",
    "\n",
    "\n",
    "plt.plot(x_1__,x_2__,'-k')\n",
    "plt.xlim([0,1.0])\n",
    "plt.ylim([0,1.0])\n",
    "\n",
    "plt.show()\n",
    "\n",
    "#you should see a perfectly separed data"
   ]
  },
  {
   "cell_type": "code",
   "execution_count": 20,
   "metadata": {
    "collapsed": false
   },
   "outputs": [
    {
     "name": "stdout",
     "output_type": "stream",
     "text": [
      "(4L, 30L)\n"
     ]
    }
   ],
   "source": [
    "ones = np.ones((1,N))\n",
    "X2 = np.concatenate((x,ones),axis=0)\n",
    "print X2.shape"
   ]
  },
  {
   "cell_type": "code",
   "execution_count": null,
   "metadata": {
    "collapsed": true
   },
   "outputs": [],
   "source": []
  }
 ],
 "metadata": {
  "anaconda-cloud": {},
  "kernelspec": {
   "display_name": "Python [Root]",
   "language": "python",
   "name": "Python [Root]"
  },
  "language_info": {
   "codemirror_mode": {
    "name": "ipython",
    "version": 3
   },
   "file_extension": ".py",
   "mimetype": "text/x-python",
   "name": "python",
   "nbconvert_exporter": "python",
   "pygments_lexer": "ipython3",
   "version": "3.5.2"
  }
 },
 "nbformat": 4,
 "nbformat_minor": 1
}
