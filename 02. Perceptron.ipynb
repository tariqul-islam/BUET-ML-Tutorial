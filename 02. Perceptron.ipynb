{
 "cells": [
  {
   "cell_type": "markdown",
   "metadata": {},
   "source": [
    "<h1>Imports</h1>"
   ]
  },
  {
   "cell_type": "code",
   "execution_count": null,
   "metadata": {
    "collapsed": true
   },
   "outputs": [],
   "source": [
    "import numpy as np\n",
    "\n",
    "import matplotlib.pyplot as plt\n",
    "%matplotlib inline\n",
    "plt.rcParams['figure.figsize'] = (10.0, 8.0) # set default size of plots\n",
    "plt.rcParams['image.interpolation'] = 'nearest'\n",
    "plt.rcParams['image.cmap'] = 'gray'\n",
    "\n",
    "%load_ext autoreload\n",
    "%autoreload 2"
   ]
  },
  {
   "cell_type": "markdown",
   "metadata": {},
   "source": [
    "<h1>The Data</h1>"
   ]
  },
  {
   "cell_type": "code",
   "execution_count": null,
   "metadata": {
    "collapsed": true
   },
   "outputs": [],
   "source": [
    "w_1 = 8.0 #w_1\n",
    "w_2p = 10.0 #w_2'\n",
    "\n",
    "m = w_1/w_2p\n",
    "c = 0.1\n",
    "\n",
    "w_0 = w_2p*c\n",
    "w_2 = -w_2p\n",
    "\n",
    "w_true = np.array([w_0, w_1, w_2])\n",
    "\n",
    "N = 100\n",
    "\n",
    "x = np.random.rand(3,N)\n",
    "x[0,:] = 1\n",
    "\n",
    "print x.shape #should print (3L, 10L) [windows] or (3,10) [linux] showing 3x10 matrix\n",
    "print w_true.shape #should pring (3L,) [windows] or (3,) [linux] showing 3x1 matrix\n",
    "#note that it is row vector instead or column\n",
    "\n",
    "#now let us compute the labels\n",
    "y_true = (w_true.dot(x)>0)*1.0+(w_true.dot(x)<=0)*-1.0\n",
    "\n",
    "marker = {}\n",
    "marker[-1.0] = '+b'\n",
    "marker[1.0] = '*r'\n",
    "\n",
    "for i in range(N):\n",
    "    plt.plot(x[1,i],x[2,i],marker[y_true[i]])\n",
    "\n",
    "x_1__ = np.arange(0,1.0,0.001)\n",
    "x_2__ = m*x_1__+c #the line that separates the classes\n",
    "\n",
    "\n",
    "plt.plot(x_1__,x_2__,'-k')\n",
    "plt.xlim([0,1.0])\n",
    "plt.ylim([0,1.0])\n",
    "\n",
    "plt.show()\n",
    "\n",
    "#you should see a perfectly separed data"
   ]
  },
  {
   "cell_type": "markdown",
   "metadata": {},
   "source": [
    "<h1>Perceptron Learning Algorithm</h1>\n",
    "\n"
   ]
  },
  {
   "cell_type": "code",
   "execution_count": null,
   "metadata": {
    "collapsed": true
   },
   "outputs": [],
   "source": [
    "def pla_alg(x,y_true,max_iter=1000,w_est=None):\n",
    "    '''\n",
    "    perceptron learning algorithm\n",
    "    input:\n",
    "    x = NxNs matrix, data variable\n",
    "    y_true = Ns matrix, ground truth labels \n",
    "    max_iter = maximum number of iteration\n",
    "    \n",
    "    Ns = number of samples\n",
    "    N = dimension of features\n",
    "    \n",
    "    output:\n",
    "    w_est = 1xN matrix, estimated weight\n",
    "    n_miscls = misclassified examples in each iteration\n",
    "    i = the number of iterations taken to converge,\n",
    "        i==max_iter indicates possible non-convergence\n",
    "    '''\n",
    "    if w_est is None:\n",
    "        w_est = np.random.rand(1,len(x)) #1x3\n",
    "\n",
    "    n_miscls = []\n",
    "\n",
    "    for i in range(max_iter):\n",
    "        y_est = (w_est.dot(x)>0)*1.0+(w_est.dot(x)<=0)*-1.0 #1x100\n",
    "        y_est = y_est[0] #100 length array from 1x100 matrix\n",
    "\n",
    "        mis_cls = (y_est*y_true)<0\n",
    "\n",
    "\n",
    "        y_sub = y_true[mis_cls]\n",
    "        x_sub = x[:,mis_cls]\n",
    "        n_sub = len(y_sub)\n",
    "        n_miscls.append(n_sub)\n",
    "        if n_sub>0:\n",
    "            ch = np.random.choice(n_sub,size=1)\n",
    "\n",
    "            w_est = w_est + y_sub[ch]*x_sub[:,ch].T\n",
    "\n",
    "        else:\n",
    "            break\n",
    "    \n",
    "    return w_est,n_miscls,i+1\n",
    "\n",
    "  "
   ]
  },
  {
   "cell_type": "code",
   "execution_count": null,
   "metadata": {
    "collapsed": true
   },
   "outputs": [],
   "source": [
    "w_est,n_miscls,i = pla_alg(x,y_true,max_iter=1000)\n",
    "    \n",
    "print 'The algorithm converged after ', i, ' iterations'  "
   ]
  },
  {
   "cell_type": "markdown",
   "metadata": {},
   "source": [
    "<h1>Well.. is it good?</h1>"
   ]
  },
  {
   "cell_type": "code",
   "execution_count": null,
   "metadata": {
    "collapsed": true
   },
   "outputs": [],
   "source": [
    "print w_est.shape\n",
    "w_est2 = w_est.reshape(len(w_true))\n",
    "m_est = w_est2[1]/np.abs(w_est2[2])\n",
    "c_est = w_est2[0]/np.abs(w_est2[2])\n",
    "\n",
    "x_2_est = m_est*x_1__ + c_est\n",
    "\n",
    "plt.plot(x_1__,x_2__, 'k')\n",
    "plt.plot(x_1__,x_2_est,'r')\n",
    "plt.xlim([0, 1.0])\n",
    "plt.ylim([0, 1.0])\n",
    "plt.show()"
   ]
  },
  {
   "cell_type": "code",
   "execution_count": null,
   "metadata": {
    "collapsed": true
   },
   "outputs": [],
   "source": [
    "plt.plot(n_miscls)"
   ]
  },
  {
   "cell_type": "markdown",
   "metadata": {
    "collapsed": true
   },
   "source": [
    "<h1>PLA for Data With Noise</h1>"
   ]
  },
  {
   "cell_type": "code",
   "execution_count": null,
   "metadata": {
    "collapsed": true
   },
   "outputs": [],
   "source": [
    "x2 = x.copy()\n",
    "x2[1:,:] += 0.1*np.random.randn(2,N)\n",
    "\n",
    "for i in range(N):\n",
    "    plt.plot(x2[1,i],x2[2,i],marker[y_true[i]])\n",
    "\n",
    "plt.plot(x_1__,x_2__, 'k')\n",
    "plt.xlim([0, 1.0])\n",
    "plt.ylim([0, 1.0])\n",
    "plt.show()"
   ]
  },
  {
   "cell_type": "code",
   "execution_count": null,
   "metadata": {
    "collapsed": true
   },
   "outputs": [],
   "source": [
    "w_est_n,n_miscls_n,i_n = pla_alg(x2,y_true,max_iter=1000)\n",
    "print 'The algorithm converged after ', i_n, ' iterations'\n",
    "\n",
    "w_est2 = w_est_n.reshape(len(w_true))\n",
    "m_est = w_est2[1]/np.abs(w_est2[2])\n",
    "c_est = w_est2[0]/np.abs(w_est2[2])\n",
    "\n",
    "x_2_est_n = m_est*x_1__ + c_est\n",
    "\n",
    "for i in range(N):\n",
    "    plt.plot(x2[1,i],x2[2,i],marker[y_true[i]])\n",
    "\n",
    "plt.plot(x_1__,x_2__, 'k')\n",
    "plt.plot(x_1__,x_2_est_n,'g')\n",
    "plt.plot(x_1__,x_2_est,'r')\n",
    "plt.xlim([0, 1.0])\n",
    "plt.ylim([0, 1.0])\n",
    "plt.show()"
   ]
  },
  {
   "cell_type": "code",
   "execution_count": null,
   "metadata": {
    "collapsed": true
   },
   "outputs": [],
   "source": []
  }
 ],
 "metadata": {
  "kernelspec": {
   "display_name": "Python [Root]",
   "language": "python",
   "name": "Python [Root]"
  },
  "language_info": {
   "codemirror_mode": {
    "name": "ipython",
    "version": 3
   },
   "file_extension": ".py",
   "mimetype": "text/x-python",
   "name": "python",
   "nbconvert_exporter": "python",
   "pygments_lexer": "ipython3",
   "version": "3.5.2"
  }
 },
 "nbformat": 4,
 "nbformat_minor": 1
}
