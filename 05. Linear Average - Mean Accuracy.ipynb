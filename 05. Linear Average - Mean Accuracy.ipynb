{
 "cells": [
  {
   "cell_type": "markdown",
   "metadata": {},
   "source": [
    "<h1>Imports</h1>"
   ]
  },
  {
   "cell_type": "code",
   "execution_count": 2,
   "metadata": {
    "collapsed": true
   },
   "outputs": [],
   "source": [
    "import numpy as np\n",
    "\n",
    "from numpy.linalg import inv, pinv\n",
    "\n",
    "import matplotlib.pyplot as plt\n",
    "%matplotlib inline\n",
    "plt.rcParams['figure.figsize'] = (10.0, 8.0) # set default size of plots\n",
    "plt.rcParams['image.interpolation'] = 'nearest'\n",
    "plt.rcParams['image.cmap'] = 'gray'\n",
    "\n",
    "%load_ext autoreload\n",
    "%autoreload 2"
   ]
  },
  {
   "cell_type": "markdown",
   "metadata": {},
   "source": [
    "<h1>Logistic Regression with Maximum Log-Likelihood and Gradient Descent</h1>"
   ]
  },
  {
   "cell_type": "code",
   "execution_count": 3,
   "metadata": {
    "collapsed": true
   },
   "outputs": [],
   "source": [
    "def logreg_mle(x,y_true,learning_rate,max_iter=1000,w_est=None):\n",
    "    '''\n",
    "    Logistic Regression with MLE and GD algorithm\n",
    "    input:\n",
    "    x = NxNs matrix, data variable\n",
    "    y_true = Ns matrix, ground truth labels\n",
    "    learning_rate = gradient descent hyperparameter\n",
    "    max_iter = maximum number of iteration\n",
    "    \n",
    "    Ns = number of samples\n",
    "    N = dimension of features\n",
    "    \n",
    "    output:\n",
    "    w_est = 1xN matrix, estimated weight\n",
    "    n_miscls = misclassified examples in each iteration\n",
    "    i = the number of iterations taken to converge,\n",
    "        i==max_iter indicates possible non-convergence\n",
    "    '''\n",
    "    w_N = len(x)\n",
    "    \n",
    "    if w_est is None:\n",
    "        w_est = np.random.rand(1,w_N)\n",
    "    \n",
    "    n_miscls = []\n",
    "    \n",
    "    for i in range(max_iter):\n",
    "        y_est = (w_est.dot(x)>0)*1.0+(w_est.dot(x)<=0)*-1.0 #1xN\n",
    "        y_est = y_est[0] #N length array from 1x100 matrix\n",
    "        \n",
    "        mis_cls = np.sum((y_est*y_true)<0)\n",
    "        n_miscls.append(mis_cls)\n",
    "        \n",
    "        if mis_cls == 0:\n",
    "            break\n",
    "        \n",
    "        grad_E = - np.mean(y_true*x / (1 + np.exp(y_true*w_est.dot(x))),axis=1)\n",
    "        w_est = w_est - learning_rate * grad_E / np.sqrt(np.sum(grad_E*grad_E))\n",
    "        \n",
    "        if (i+1)%100 == 0 :\n",
    "            learning_rate /= 2\n",
    "    \n",
    "    return w_est,n_miscls,i"
   ]
  },
  {
   "cell_type": "markdown",
   "metadata": {},
   "source": [
    "<h1>Data</h1>\n",
    "\n",
    "This example of Toy data is based off of Yaser Abu-Mustapha's course content at caltech."
   ]
  },
  {
   "cell_type": "code",
   "execution_count": 34,
   "metadata": {
    "collapsed": false
   },
   "outputs": [
    {
     "name": "stdout",
     "output_type": "stream",
     "text": [
      "(3, 15)\n",
      "(3,)\n"
     ]
    },
    {
     "data": {
      "image/png": "[encoded data removed]",
      "text/plain": [
       "<matplotlib.figure.Figure at 0x7fac98c72a10>"
      ]
     },
     "metadata": {},
     "output_type": "display_data"
    }
   ],
   "source": [
    "np.random.seed(100)\n",
    "\n",
    "w_1 = 8.0 #w_1\n",
    "w_2p = 10.0 #w_2'\n",
    "\n",
    "m = w_1/w_2p\n",
    "c = 0.1\n",
    "\n",
    "w_0 = w_2p*c\n",
    "w_2 = -w_2p\n",
    "\n",
    "w_true = np.array([w_0, w_1, w_2])\n",
    "\n",
    "N = 15 #less than VC Dimension times 6 samples\n",
    "\n",
    "x = np.random.rand(3,N)\n",
    "x[0,:] = 1\n",
    "\n",
    "print x.shape #should print (3L, 10L) [windows] or (3,10) [linux] showing 3x10 matrix\n",
    "print w_true.shape #should pring (3L,) [windows] or (3,) [linux] showing 3x1 matrix\n",
    "#note that it is row vector instead or column\n",
    "\n",
    "#now let us compute the labels\n",
    "y_true = (w_true.dot(x)>0)*1.0+(w_true.dot(x)<=0)*-1.0\n",
    "\n",
    "marker = {}\n",
    "marker[-1.0] = '+b'\n",
    "marker[1.0] = '*r'\n",
    "\n",
    "#plotting the data points\n",
    "for i in range(N):\n",
    "    plt.plot(x[1,i],x[2,i],marker[y_true[i]])\n",
    "\n",
    "#plotting the separation line\n",
    "x_1__ = np.arange(0,1.0,0.001)\n",
    "x_2__ = m*x_1__+c #the line that separates the classes\n",
    "\n",
    "\n",
    "plt.plot(x_1__,x_2__,'-k')\n",
    "plt.xlim([0,1.0])\n",
    "plt.ylim([0,1.0])\n",
    "\n",
    "plt.show()\n",
    "\n",
    "#you should see a perfectly separed data"
   ]
  },
  {
   "cell_type": "markdown",
   "metadata": {},
   "source": [
    "<h1>Tarining Moels</h1>\n",
    "\n",
    "Here we train 4 models."
   ]
  },
  {
   "cell_type": "code",
   "execution_count": 38,
   "metadata": {
    "collapsed": false
   },
   "outputs": [
    {
     "name": "stdout",
     "output_type": "stream",
     "text": [
      "Accuracy of Model 1: 0.9651\n",
      "Accuracy of Model 2: 0.9398\n",
      "Accuracy of Model 3: 0.918\n",
      "Accuracy of Model 4: 0.9599\n",
      "Accuracy of Linear Average: 0.9589\n",
      "Mean Accuracy: 0.9457\n"
     ]
    }
   ],
   "source": [
    "max_iter = 1000\n",
    "learning_rate = 0.6\n",
    "\n",
    "#4 different models\n",
    "np.random.seed(101)\n",
    "w_est1, n_miscls2, number_it1 = logreg_mle(x,y_true,0.6)\n",
    "np.random.seed(102)\n",
    "w_est2, n_miscls2, number_it2 = logreg_mle(x,y_true,0.6)\n",
    "np.random.seed(103)\n",
    "w_est3, n_miscls3, number_it3 = logreg_mle(x,y_true,0.6)\n",
    "np.random.seed(104)\n",
    "w_est4, n_miscls5, number_it6 = logreg_mle(x,y_true,0.6)\n",
    "\n",
    "#creating test data\n",
    "N_test = 10000\n",
    "x_test = np.random.rand(3,N_test)\n",
    "x_test[0,:] = 1\n",
    "\n",
    "#evaluating the models\n",
    "y_test_true = (w_true.dot(x_test)>0)*1.0+(w_true.dot(x_test)<=0)*-1.0 #actual classes\n",
    "y_test_class = 1.0*(y_test_true>0);\n",
    "y_test1 = (w_est1.dot(x_test)>0)*1.0+(w_est1.dot(x_test)<=0)*-1.0 #Model 1\n",
    "y_test1_prob = 1/(1+np.exp(-w_est1.dot(x_test))) #probabilistic interpretation for Model 1\n",
    "y_test2 = (w_est2.dot(x_test)>0)*1.0+(w_est2.dot(x_test)<=0)*-1.0 #Model 2\n",
    "y_test2_prob = 1/(1+np.exp(-w_est2.dot(x_test))) #probabilistic interpretation for Model 3\n",
    "y_test3 = (w_est3.dot(x_test)>0)*1.0+(w_est3.dot(x_test)<=0)*-1.0 #model 3\n",
    "y_test3_prob = 1/(1+np.exp(-w_est3.dot(x_test))) #probabilistic interpretation for Model 3\n",
    "y_test4 = (w_est4.dot(x_test)>0)*1.0+(w_est4.dot(x_test)<=0)*-1.0 #Model 4\n",
    "y_test4_prob = 1/(1+np.exp(-w_est4.dot(x_test))) #probabilistic interpretation for Model 4\n",
    "\n",
    "#Accuracies\n",
    "th = 0.5 #Classifier threshold = 0.5\n",
    "acc1 = np.mean(y_test_class==1.0*(y_test1_prob>th))\n",
    "acc2 = np.mean(y_test_class==1.0*(y_test2_prob>th))\n",
    "acc3 = np.mean(y_test_class==1.0*(y_test3_prob>th))\n",
    "acc4 = np.mean(y_test_class==1.0*(y_test4_prob>th))\n",
    "\n",
    "#linear Average\n",
    "accx = np.mean(y_test_class==1.0*(y_test1_prob+y_test2_prob+y_test3_prob+y_test4_prob>4*th))\n",
    "#mean Accuracy\n",
    "mean_accx = np.mean([acc1, acc2, acc3, acc4])\n",
    "\n",
    "print 'Accuracy of Model 1:', acc1\n",
    "print 'Accuracy of Model 2:', acc2\n",
    "print 'Accuracy of Model 3:', acc3\n",
    "print 'Accuracy of Model 4:', acc4\n",
    "print 'Accuracy of Linear Average:', accx\n",
    "print 'Mean Accuracy:', mean_accx"
   ]
  },
  {
   "cell_type": "code",
   "execution_count": null,
   "metadata": {
    "collapsed": true
   },
   "outputs": [],
   "source": []
  }
 ],
 "metadata": {
  "anaconda-cloud": {},
  "kernelspec": {
   "display_name": "Python [Root]",
   "language": "python",
   "name": "Python [Root]"
  },
  "language_info": {
   "codemirror_mode": {
    "name": "ipython",
    "version": 3
   },
   "file_extension": ".py",
   "mimetype": "text/x-python",
   "name": "python",
   "nbconvert_exporter": "python",
   "pygments_lexer": "ipython3",
   "version": "3.5.2"
  }
 },
 "nbformat": 4,
 "nbformat_minor": 2
}
