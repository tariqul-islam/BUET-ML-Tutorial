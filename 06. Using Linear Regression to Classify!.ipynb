{
 "cells": [
  {
   "cell_type": "markdown",
   "metadata": {},
   "source": [
    "<h1>Using Linear Regression to Classify!</h1>"
   ]
  },
  {
   "cell_type": "code",
   "execution_count": null,
   "metadata": {},
   "outputs": [],
   "source": [
    "import numpy as np\n",
    "\n",
    "from numpy.linalg import inv, pinv\n",
    "\n",
    "import matplotlib.pyplot as plt\n",
    "%matplotlib inline\n",
    "plt.rcParams['figure.figsize'] = (10.0, 8.0) # set default size of plots\n",
    "plt.rcParams['image.interpolation'] = 'nearest'\n",
    "plt.rcParams['image.cmap'] = 'gray'\n",
    "\n",
    "%load_ext autoreload\n",
    "%autoreload 2"
   ]
  },
  {
   "cell_type": "markdown",
   "metadata": {},
   "source": [
    "<h1>Data</h1>"
   ]
  },
  {
   "cell_type": "code",
   "execution_count": null,
   "metadata": {},
   "outputs": [],
   "source": [
    "w_1 = 8.0 #w_1\n",
    "w_2p = 10.0 #w_2'\n",
    "\n",
    "m = w_1/w_2p\n",
    "c = 0.1\n",
    "\n",
    "w_0 = w_2p*c\n",
    "w_2 = -w_2p\n",
    "\n",
    "w_true = np.array([w_0, w_1, w_2])\n",
    "\n",
    "N = 100\n",
    "\n",
    "x = np.random.rand(3,N)\n",
    "x[0,:] = 1\n",
    "\n",
    "print x.shape #should print (3L, 10L) [windows] or (3,10) [linux] showing 3x10 matrix\n",
    "print w_true.shape #should pring (3L,) [windows] or (3,) [linux] showing 3x1 matrix\n",
    "#note that it is row vector instead or column\n",
    "\n",
    "#now let us compute the labels\n",
    "y_true = (w_true.dot(x)>0)*1.0+(w_true.dot(x)<0)*-1.0\n",
    "\n",
    "marker = {}\n",
    "marker[-1.0] = '+b'\n",
    "marker[1.0] = '*r'\n",
    "\n",
    "for i in range(N):\n",
    "    plt.plot(x[1,i],x[2,i],marker[y_true[i]])\n",
    "\n",
    "x_1__ = np.arange(0,1.0,0.001)\n",
    "x_2__ = m*x_1__+c #the line that separates the classes\n",
    "\n",
    "\n",
    "plt.plot(x_1__,x_2__,'-k')\n",
    "plt.xlim([0,1.0])\n",
    "plt.ylim([0,1.0])\n",
    "\n",
    "plt.show()\n",
    "\n",
    "#you should see a perfectly separed data"
   ]
  },
  {
   "cell_type": "markdown",
   "metadata": {},
   "source": [
    "<h1>Deploy Linear Regression</h1>"
   ]
  },
  {
   "cell_type": "code",
   "execution_count": null,
   "metadata": {},
   "outputs": [],
   "source": [
    "X = x.T\n",
    "y = y_true.reshape(N,1)\n",
    "\n",
    "w_est = pinv(X).dot(y)\n",
    "\n",
    "y_est = X.dot(w_est)\n",
    "y_est = (y_est>0)*1.0 + (y_est<=0)*-1.0\n",
    "\n",
    "error = np.sum((y_est*y)<0)\n",
    "\n",
    "print error, \" samples have not been identified correctly\"\n",
    "\n",
    "w_lr = w_est.reshape(len(w_est))\n",
    "m_lr = w_lr[1]/np.abs(w_lr[2])\n",
    "c_lr = w_lr[0]/np.abs(w_lr[2])\n",
    "\n",
    "x_2_lin = m_lr*x_1__ + c_lr\n",
    "\n",
    "for i in range(N):\n",
    "    plt.plot(x[1,i],x[2,i],marker[y_true[i]])\n",
    "\n",
    "plt.plot(x_1__,x_2__, 'k')\n",
    "plt.plot(x_1__,x_2_lin,'g')\n",
    "plt.xlim([0,1.0])\n",
    "plt.ylim([0,1.0])\n",
    "plt.show()"
   ]
  },
  {
   "cell_type": "markdown",
   "metadata": {
    "collapsed": true
   },
   "source": [
    "<h1>Concatenate PLA with LR</h1>"
   ]
  },
  {
   "cell_type": "code",
   "execution_count": null,
   "metadata": {},
   "outputs": [],
   "source": [
    "from algs import pla_alg\n",
    "\n",
    "w_est = w_lr.copy()\n",
    "\n",
    "w_est,n_miscls,i = pla_alg(x,y_true,w_est=w_est)\n",
    "    \n",
    "print 'The algorithm converged after ', i, ' iterations'    "
   ]
  },
  {
   "cell_type": "markdown",
   "metadata": {},
   "source": [
    "<h1>Performance</h1>"
   ]
  },
  {
   "cell_type": "code",
   "execution_count": null,
   "metadata": {},
   "outputs": [],
   "source": [
    "w_est2 = w_est[0]\n",
    "m_est = w_est2[1]/np.abs(w_est2[2])\n",
    "c_est = w_est2[0]/np.abs(w_est2[2])\n",
    "\n",
    "x_2_est = m_est*x_1__ + c_est\n",
    "\n",
    "for i in range(N):\n",
    "    plt.plot(x[1,i],x[2,i],marker[y_true[i]])\n",
    "\n",
    "plt.plot(x_1__,x_2__, 'k')\n",
    "plt.plot(x_1__,x_2_est,'r')\n",
    "plt.plot(x_1__,x_2_lin,'g')\n",
    "plt.xlim([0,1.0])\n",
    "plt.ylim([0,1.0])\n",
    "plt.show()"
   ]
  },
  {
   "cell_type": "code",
   "execution_count": null,
   "metadata": {
    "collapsed": true
   },
   "outputs": [],
   "source": []
  }
 ],
 "metadata": {
  "kernelspec": {
   "display_name": "Python 2",
   "language": "python",
   "name": "python2"
  },
  "language_info": {
   "codemirror_mode": {
    "name": "ipython",
    "version": 2
   },
   "file_extension": ".py",
   "mimetype": "text/x-python",
   "name": "python",
   "nbconvert_exporter": "python",
   "pygments_lexer": "ipython2",
   "version": "2.7.13"
  }
 },
 "nbformat": 4,
 "nbformat_minor": 2
}
