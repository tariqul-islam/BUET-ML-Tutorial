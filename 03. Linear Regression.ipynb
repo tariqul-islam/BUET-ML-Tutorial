{
 "cells": [
  {
   "cell_type": "markdown",
   "metadata": {},
   "source": [
    "<h1>Imports</h1>"
   ]
  },
  {
   "cell_type": "code",
   "execution_count": null,
   "metadata": {
    "collapsed": true
   },
   "outputs": [],
   "source": [
    "import numpy as np\n",
    "import matplotlib as plt\n",
    "\n",
    "import matplotlib.pyplot as plt\n",
    "%matplotlib inline\n",
    "plt.rcParams['figure.figsize'] = (10.0, 8.0) # set default size of plots\n",
    "plt.rcParams['image.interpolation'] = 'nearest'\n",
    "plt.rcParams['image.cmap'] = 'gray'\n",
    "\n",
    "%load_ext autoreload\n",
    "%autoreload 2"
   ]
  },
  {
   "cell_type": "markdown",
   "metadata": {},
   "source": [
    "<h1> The Curve Fitting Problem</h1>"
   ]
  },
  {
   "cell_type": "markdown",
   "metadata": {},
   "source": []
  },
  {
   "cell_type": "code",
   "execution_count": null,
   "metadata": {
    "collapsed": true
   },
   "outputs": [],
   "source": [
    "m = 0.8\n",
    "c = 0.1\n",
    "\n",
    "x = np.arange(0,1.01,0.1)\n",
    "N = len(x)\n",
    "y = m*x+c;\n",
    "\n",
    "plt.plot(x,y)\n",
    "plt.plot(x,y,'.r')\n",
    "plt.xlim(0,1)\n",
    "plt.ylim(0,1)"
   ]
  },
  {
   "cell_type": "markdown",
   "metadata": {},
   "source": [
    "<h1>Linear Regression</h1>"
   ]
  },
  {
   "cell_type": "code",
   "execution_count": null,
   "metadata": {
    "collapsed": true
   },
   "outputs": [],
   "source": [
    "from numpy.linalg import inv\n",
    "\n",
    "X = np.array([x, np.ones(N)]).T\n",
    "y = y.reshape(N,1)\n",
    "\n",
    "print X.shape\n",
    "print y.shape\n",
    "\n",
    "estimate = inv(X.T.dot(X)).dot(X.T).dot(y)\n",
    "m_est = estimate[0,0]\n",
    "c_est = estimate[1,0]\n",
    "\n",
    "y_est = m_est*x+c_est\n",
    "\n",
    "plt.plot(x,y,'.')\n",
    "plt.plot(x,y_est,'r')\n",
    "plt.xlim(0,1)\n",
    "plt.ylim(0,1)\n",
    "\n",
    "\n",
    "print \"Estimated:\\t m=\", m_est, \" c=\", c_est\n",
    "print \"Actual:\\t\\t m=\", m, \" c=\", c"
   ]
  },
  {
   "cell_type": "markdown",
   "metadata": {},
   "source": [
    "<h1>Let's Make Some Noise</h1>"
   ]
  },
  {
   "cell_type": "code",
   "execution_count": null,
   "metadata": {
    "collapsed": true
   },
   "outputs": [],
   "source": [
    "y2 = y + np.random.randn(N,1)*.01\n",
    "\n",
    "plt.plot(x,y)\n",
    "plt.plot(x,y2,'.r')\n",
    "plt.xlim(0,1)\n",
    "plt.ylim(0,1)"
   ]
  },
  {
   "cell_type": "code",
   "execution_count": null,
   "metadata": {
    "collapsed": true
   },
   "outputs": [],
   "source": [
    "from numpy.linalg import pinv\n",
    "\n",
    "estimate2 = pinv(X).dot(y2)\n",
    "m_est2 = estimate2[0,0]\n",
    "c_est2 = estimate2[1,0]\n",
    "\n",
    "y_est2 = m_est2*x+c\n",
    "\n",
    "plt.plot(x,y)\n",
    "plt.plot(x,y_est2,'r')\n",
    "plt.xlim(0,1)\n",
    "plt.ylim(0,1)\n",
    "\n",
    "print \"Estimated:\\t m=\", m_est2, \" c=\", c_est2\n",
    "print \"Actual:\\t\\t m=\", m, \" c=\", c"
   ]
  },
  {
   "cell_type": "code",
   "execution_count": null,
   "metadata": {
    "collapsed": true
   },
   "outputs": [],
   "source": []
  }
 ],
 "metadata": {
  "anaconda-cloud": {},
  "kernelspec": {
   "display_name": "Python [Root]",
   "language": "python",
   "name": "Python [Root]"
  },
  "language_info": {
   "codemirror_mode": {
    "name": "ipython",
    "version": 3
   },
   "file_extension": ".py",
   "mimetype": "text/x-python",
   "name": "python",
   "nbconvert_exporter": "python",
   "pygments_lexer": "ipython3",
   "version": "3.5.2"
  }
 },
 "nbformat": 4,
 "nbformat_minor": 2
}
